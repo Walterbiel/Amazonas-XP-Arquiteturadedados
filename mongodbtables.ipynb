{
 "cells": [
  {
   "cell_type": "code",
   "execution_count": 40,
   "metadata": {},
   "outputs": [
    {
     "data": {
      "text/plain": [
       "MongoClient(host=['localhost:27017'], document_class=dict, tz_aware=False, connect=True)"
      ]
     },
     "execution_count": 40,
     "metadata": {},
     "output_type": "execute_result"
    }
   ],
   "source": [
    "from pymongo import MongoClient\n",
    "\n",
    "# Substitua com o nome de usuário e senha configurados no seu docker-compose\n",
    "usuario = \"admin\"\n",
    "senha = \"pass\"\n",
    "\n",
    "db_client = MongoClient('localhost',27017)\n",
    "db_client\n"
   ]
  },
  {
   "cell_type": "code",
   "execution_count": 41,
   "metadata": {},
   "outputs": [
    {
     "data": {
      "text/plain": [
       "InsertOneResult(ObjectId('67a01054fc89af58e235267f'), acknowledged=True)"
      ]
     },
     "execution_count": 41,
     "metadata": {},
     "output_type": "execute_result"
    }
   ],
   "source": [
    "# Acessar o banco de dados (será criado se não existir)\n",
    "db = db_client['nome_do_banco_de_dados']\n",
    "\n",
    "# Criar a coleção (será criada se não existir)\n",
    "collection = db['nome_da_colecao']\n",
    "\n",
    "# Inserir um documento para garantir que o banco de dados seja criado\n",
    "document = {\"nome\": \"teste\", \"valor\": 123}\n",
    "collection.insert_one(document)\n"
   ]
  },
  {
   "cell_type": "code",
   "execution_count": 43,
   "metadata": {},
   "outputs": [
    {
     "name": "stdout",
     "output_type": "stream",
     "text": [
      "<pymongo.synchronous.command_cursor.CommandCursor object at 0x7f7664b29610>\n"
     ]
    }
   ],
   "source": [
    "# Listar as coleções\n",
    "collections = db.list_collections()\n",
    "\n",
    "# Exibir as coleções\n",
    "print(collections)"
   ]
  },
  {
   "cell_type": "code",
   "execution_count": null,
   "metadata": {},
   "outputs": [],
   "source": []
  }
 ],
 "metadata": {
  "kernelspec": {
   "display_name": "venv",
   "language": "python",
   "name": "python3"
  },
  "language_info": {
   "codemirror_mode": {
    "name": "ipython",
    "version": 3
   },
   "file_extension": ".py",
   "mimetype": "text/x-python",
   "name": "python",
   "nbconvert_exporter": "python",
   "pygments_lexer": "ipython3",
   "version": "3.11.2"
  }
 },
 "nbformat": 4,
 "nbformat_minor": 2
}

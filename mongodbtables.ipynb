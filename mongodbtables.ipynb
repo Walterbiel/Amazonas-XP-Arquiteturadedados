{
 "cells": [
  {
   "cell_type": "code",
   "execution_count": null,
   "metadata": {},
   "outputs": [],
   "source": [
    "from pymongo import MongoClient\n",
    "\n",
    "# Conectar ao MongoDB (considerando que está rodando no Docker na porta padrão 27017)\n",
    "client = MongoClient(\"mongodb://localhost:27017/\")\n",
    "\n",
    "# Selecionar o banco de dados\n",
    "db = client[\"meu_banco_de_dados\"]\n",
    "\n",
    "# Criar uma coleção (se não existir, será criada automaticamente)\n",
    "colecao = db[\"minha_colecao\"]\n",
    "\n",
    "# Inserir documentos na coleção\n",
    "documento = {\n",
    "    \"nome\": \"Produto 1\",\n",
    "    \"preco\": 100.0,\n",
    "    \"categoria\": \"Categoria A\"\n",
    "}\n",
    "\n",
    "colecao.insert_one(documento)\n",
    "\n",
    "# Verificar se o documento foi inserido\n",
    "for doc in colecao.find():\n",
    "    print(doc)\n"
   ]
  }
 ],
 "metadata": {
  "kernelspec": {
   "display_name": "venv",
   "language": "python",
   "name": "python3"
  },
  "language_info": {
   "codemirror_mode": {
    "name": "ipython",
    "version": 3
   },
   "file_extension": ".py",
   "mimetype": "text/x-python",
   "name": "python",
   "nbconvert_exporter": "python",
   "pygments_lexer": "ipython3",
   "version": "3.11.2"
  }
 },
 "nbformat": 4,
 "nbformat_minor": 2
}
